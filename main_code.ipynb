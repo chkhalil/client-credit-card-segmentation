{
 "cells": [
  {
   "cell_type": "code",
   "execution_count": 1,
   "metadata": {
    "collapsed": false
   },
   "outputs": [],
   "source": [
    "%matplotlib inline\n",
    "import numpy as np\n",
    "import matplotlib.pyplot as plt\n",
    "import pandas as pd\n",
    "from sklearn import preprocessing\n",
    "from sklearn.cluster import KMeans\n",
    "from sklearn.decomposition import PCA\n",
    "from scipy import stats\n",
    "from patsy import dmatrices, dmatrix"
   ]
  },
  {
   "cell_type": "code",
   "execution_count": 2,
   "metadata": {
    "collapsed": false
   },
   "outputs": [
    {
     "data": {
      "text/html": [
       "<div>\n",
       "<table border=\"1\" class=\"dataframe\">\n",
       "  <thead>\n",
       "    <tr style=\"text-align: right;\">\n",
       "      <th></th>\n",
       "      <th>client</th>\n",
       "      <th>paysclient</th>\n",
       "      <th>timestamp</th>\n",
       "      <th>canal</th>\n",
       "      <th>montant</th>\n",
       "      <th>commercant</th>\n",
       "    </tr>\n",
       "  </thead>\n",
       "  <tbody>\n",
       "    <tr>\n",
       "      <th>0</th>\n",
       "      <td>1001741</td>\n",
       "      <td>FRA</td>\n",
       "      <td>2011-01-04-21</td>\n",
       "      <td>1</td>\n",
       "      <td>25</td>\n",
       "      <td>2019460</td>\n",
       "    </tr>\n",
       "    <tr>\n",
       "      <th>1</th>\n",
       "      <td>1000791</td>\n",
       "      <td>FRA</td>\n",
       "      <td>2011-01-04-21</td>\n",
       "      <td>1</td>\n",
       "      <td>15</td>\n",
       "      <td>2019461</td>\n",
       "    </tr>\n",
       "    <tr>\n",
       "      <th>2</th>\n",
       "      <td>1000516</td>\n",
       "      <td>FRA</td>\n",
       "      <td>2011-01-04-21</td>\n",
       "      <td>1</td>\n",
       "      <td>24</td>\n",
       "      <td>2000798</td>\n",
       "    </tr>\n",
       "    <tr>\n",
       "      <th>3</th>\n",
       "      <td>1000071</td>\n",
       "      <td>FRA</td>\n",
       "      <td>2011-01-04-21</td>\n",
       "      <td>1</td>\n",
       "      <td>12</td>\n",
       "      <td>2000798</td>\n",
       "    </tr>\n",
       "    <tr>\n",
       "      <th>4</th>\n",
       "      <td>1000686</td>\n",
       "      <td>FRA</td>\n",
       "      <td>2011-01-04-21</td>\n",
       "      <td>1</td>\n",
       "      <td>144</td>\n",
       "      <td>2000798</td>\n",
       "    </tr>\n",
       "  </tbody>\n",
       "</table>\n",
       "</div>"
      ],
      "text/plain": [
       "    client paysclient      timestamp  canal montant  commercant\n",
       "0  1001741        FRA  2011-01-04-21      1      25     2019460\n",
       "1  1000791        FRA  2011-01-04-21      1      15     2019461\n",
       "2  1000516        FRA  2011-01-04-21      1      24     2000798\n",
       "3  1000071        FRA  2011-01-04-21      1      12     2000798\n",
       "4  1000686        FRA  2011-01-04-21      1     144     2000798"
      ]
     },
     "execution_count": 2,
     "metadata": {},
     "output_type": "execute_result"
    }
   ],
   "source": [
    "df = pd.read_csv('Classeur1.csv',sep=';')\n",
    "\n",
    "df.replace('\\..*$','', regex=True,inplace='true')# remove the exact hour of transaction (we are concerned by daily transactions)\n",
    "df.head()"
   ]
  },
  {
   "cell_type": "code",
   "execution_count": 3,
   "metadata": {
    "collapsed": false
   },
   "outputs": [
    {
     "data": {
      "text/plain": [
       "client        1.000000\n",
       "paysclient    1.000000\n",
       "timestamp     1.000000\n",
       "canal         0.993128\n",
       "montant       1.000000\n",
       "commercant    1.000000\n",
       "dtype: float64"
      ]
     },
     "execution_count": 3,
     "metadata": {},
     "output_type": "execute_result"
    }
   ],
   "source": [
    "df.count() / df.shape[0]"
   ]
  },
  {
   "cell_type": "code",
   "execution_count": 4,
   "metadata": {
    "collapsed": false
   },
   "outputs": [
    {
     "name": "stdout",
     "output_type": "stream",
     "text": [
      "65076\n"
     ]
    }
   ],
   "source": [
    "df.replace(np.nan,2.0,inplace='true')   # remove nan values in canal\n",
    "print len(np.unique(df.commercant.values))"
   ]
  },
  {
   "cell_type": "markdown",
   "metadata": {},
   "source": [
    "##### Quelques information sur le jeu des données:\n",
    "Ce jeu de données concerne 3983 clients. Il enregistré sur une période de 6 mois commençant de 2010/12/31  jusqu'à 2011/06/30. On a également deux canaux de dépenses (0,1). Quant aux commerçants, on a 65076.\n"
   ]
  },
  {
   "cell_type": "markdown",
   "metadata": {},
   "source": [
    "##I) Analyse descriptive"
   ]
  },
  {
   "cell_type": "markdown",
   "metadata": {},
   "source": [
    "### I.1) Analyse des dépenses\n",
    "#### I.1.1) Analyse globale des dépenses"
   ]
  },
  {
   "cell_type": "code",
   "execution_count": 5,
   "metadata": {
    "collapsed": false
   },
   "outputs": [
    {
     "data": {
      "text/plain": [
       "count    78584.000000\n",
       "mean        45.796333\n",
       "std         83.062752\n",
       "min          0.000000\n",
       "25%         15.000000\n",
       "50%         28.000000\n",
       "75%         51.000000\n",
       "max       6933.000000\n",
       "Name: montant, dtype: float64"
      ]
     },
     "execution_count": 5,
     "metadata": {},
     "output_type": "execute_result"
    }
   ],
   "source": [
    "f = lambda x: float(x.replace(' ', ''))\n",
    "df['montant'] = df.montant.apply(f)  # convert montant from string to float\n",
    "df['montant'].describe()"
   ]
  },
  {
   "cell_type": "code",
   "execution_count": 6,
   "metadata": {
    "collapsed": false
   },
   "outputs": [
    {
     "name": "stdout",
     "output_type": "stream",
     "text": [
      "(78584,)\n",
      "45.7963325868\n"
     ]
    },
    {
     "data": {
      "text/plain": [
       "[300, 400, 0, 200]"
      ]
     },
     "execution_count": 6,
     "metadata": {},
     "output_type": "execute_result"
    },
    {
     "data": {
      "image/png": "[encoded data removed]",
      "text/plain": [
       "<matplotlib.figure.Figure at 0x7f0752f66d90>"
      ]
     },
     "metadata": {},
     "output_type": "display_data"
    }
   ],
   "source": [
    "x = df.montant.values\n",
    "print x.shape\n",
    "print np.mean(x)\n",
    "plt.subplot(2, 2, 1)\n",
    "plt.hist(x,bins=1000)\n",
    "plt.axis([0,100,0,20000])\n",
    "#plt.show()\n",
    "\n",
    "plt.subplot(2, 2, 2)\n",
    "plt.hist(x,bins=1000)\n",
    "plt.axis([100,200,0,1000])\n",
    "\n",
    "plt.subplot(2, 2, 3)\n",
    "plt.hist(x,bins=1000)\n",
    "plt.axis([200,300,0,200])\n",
    "\n",
    "plt.subplot(2, 2, 4)\n",
    "plt.hist(x,bins=1000)\n",
    "plt.axis([300,400,0,200])\n",
    "\n",
    "\n",
    "#plt.show()"
   ]
  },
  {
   "cell_type": "markdown",
   "metadata": {},
   "source": [
    "A partir de notre jeu de données, on constate:\n",
    "\n",
    "- Les transcations bancaires les plus fréquentes (5000 jusqu'à 15000 transactions) sont dans la plage de 10 à 50 euros. \n",
    "- La fréquece des dépenses pour un seuil supérieur à 50 euros sont de plus en plus faibles et atteignent une fréquence de 900 transcations pour 100 euros. \n",
    "- Pour un montant supérieur à 200 euros, la fréquence est inférieur à 100.\n",
    "- Pour un montant supérieur à 300 euros, la fréquence des dépenses est inférieur à 50."
   ]
  },
  {
   "cell_type": "markdown",
   "metadata": {},
   "source": [
    "#### I.1.2) Analyse par client"
   ]
  },
  {
   "cell_type": "code",
   "execution_count": 7,
   "metadata": {
    "collapsed": false
   },
   "outputs": [
    {
     "name": "stdout",
     "output_type": "stream",
     "text": [
      "(3983, 1)\n"
     ]
    },
    {
     "data": {
      "text/html": [
       "<div>\n",
       "<table border=\"1\" class=\"dataframe\">\n",
       "  <thead>\n",
       "    <tr style=\"text-align: right;\">\n",
       "      <th></th>\n",
       "      <th>montant</th>\n",
       "    </tr>\n",
       "    <tr>\n",
       "      <th>client</th>\n",
       "      <th></th>\n",
       "    </tr>\n",
       "  </thead>\n",
       "  <tbody>\n",
       "    <tr>\n",
       "      <th>1000001</th>\n",
       "      <td>12.000000</td>\n",
       "    </tr>\n",
       "    <tr>\n",
       "      <th>1000002</th>\n",
       "      <td>86.000000</td>\n",
       "    </tr>\n",
       "    <tr>\n",
       "      <th>1000003</th>\n",
       "      <td>29.750000</td>\n",
       "    </tr>\n",
       "    <tr>\n",
       "      <th>1000004</th>\n",
       "      <td>54.857143</td>\n",
       "    </tr>\n",
       "    <tr>\n",
       "      <th>1000005</th>\n",
       "      <td>174.333333</td>\n",
       "    </tr>\n",
       "  </tbody>\n",
       "</table>\n",
       "</div>"
      ],
      "text/plain": [
       "            montant\n",
       "client             \n",
       "1000001   12.000000\n",
       "1000002   86.000000\n",
       "1000003   29.750000\n",
       "1000004   54.857143\n",
       "1000005  174.333333"
      ]
     },
     "execution_count": 7,
     "metadata": {},
     "output_type": "execute_result"
    }
   ],
   "source": [
    "sum_montant = df.groupby('client')[['montant']].sum()\n",
    "count_montant = df.groupby('client')[['montant']].count()\n",
    "client_montant = sum_montant / count_montant     # dépense moyenne par client\n",
    "\n",
    "print client_montant.shape\n",
    "client_montant.head()\n",
    "\n"
   ]
  },
  {
   "cell_type": "code",
   "execution_count": 8,
   "metadata": {
    "collapsed": false
   },
   "outputs": [
    {
     "data": {
      "text/html": [
       "<div>\n",
       "<table border=\"1\" class=\"dataframe\">\n",
       "  <thead>\n",
       "    <tr style=\"text-align: right;\">\n",
       "      <th></th>\n",
       "      <th>montant</th>\n",
       "    </tr>\n",
       "  </thead>\n",
       "  <tbody>\n",
       "    <tr>\n",
       "      <th>count</th>\n",
       "      <td>3983.000000</td>\n",
       "    </tr>\n",
       "    <tr>\n",
       "      <th>mean</th>\n",
       "      <td>49.745707</td>\n",
       "    </tr>\n",
       "    <tr>\n",
       "      <th>std</th>\n",
       "      <td>63.242092</td>\n",
       "    </tr>\n",
       "    <tr>\n",
       "      <th>min</th>\n",
       "      <td>1.000000</td>\n",
       "    </tr>\n",
       "    <tr>\n",
       "      <th>25%</th>\n",
       "      <td>23.566964</td>\n",
       "    </tr>\n",
       "    <tr>\n",
       "      <th>50%</th>\n",
       "      <td>36.461538</td>\n",
       "    </tr>\n",
       "    <tr>\n",
       "      <th>75%</th>\n",
       "      <td>56.480769</td>\n",
       "    </tr>\n",
       "    <tr>\n",
       "      <th>max</th>\n",
       "      <td>1381.500000</td>\n",
       "    </tr>\n",
       "  </tbody>\n",
       "</table>\n",
       "</div>"
      ],
      "text/plain": [
       "           montant\n",
       "count  3983.000000\n",
       "mean     49.745707\n",
       "std      63.242092\n",
       "min       1.000000\n",
       "25%      23.566964\n",
       "50%      36.461538\n",
       "75%      56.480769\n",
       "max    1381.500000"
      ]
     },
     "execution_count": 8,
     "metadata": {},
     "output_type": "execute_result"
    }
   ],
   "source": [
    "client_montant.describe()"
   ]
  },
  {
   "cell_type": "code",
   "execution_count": 9,
   "metadata": {
    "collapsed": false
   },
   "outputs": [
    {
     "data": {
      "image/png": "[encoded data removed]",
      "text/plain": [
       "<matplotlib.figure.Figure at 0x7f074cb11910>"
      ]
     },
     "metadata": {},
     "output_type": "display_data"
    }
   ],
   "source": [
    "x = client_montant.montant.values\n",
    "plt.hist(x,bins=500)\n",
    "plt.axis([0,200,0,250])\n",
    "plt.title('depense moyenne par client')\n",
    "plt.xlabel('montant moyen')\n",
    "plt.ylabel('nombre de client')\n",
    "plt.show()"
   ]
  },
  {
   "cell_type": "markdown",
   "metadata": {},
   "source": [
    "Dans ce jeu de données, on a 3983 clients. L'histogramme montre que 75% de la population dépense en moyenne (par transaction) un montant inférieur à 56 euros. "
   ]
  },
  {
   "cell_type": "markdown",
   "metadata": {},
   "source": [
    "####I.1.3) Evolution des dépenses en fonction du temps"
   ]
  },
  {
   "cell_type": "code",
   "execution_count": 10,
   "metadata": {
    "collapsed": false
   },
   "outputs": [
    {
     "name": "stdout",
     "output_type": "stream",
     "text": [
      "<class 'pandas.core.frame.DataFrame'>\n"
     ]
    },
    {
     "data": {
      "text/html": [
       "<div>\n",
       "<table border=\"1\" class=\"dataframe\">\n",
       "  <thead>\n",
       "    <tr style=\"text-align: right;\">\n",
       "      <th></th>\n",
       "      <th>client</th>\n",
       "      <th>paysclient</th>\n",
       "      <th>timestamp</th>\n",
       "      <th>canal</th>\n",
       "      <th>montant</th>\n",
       "      <th>commercant</th>\n",
       "    </tr>\n",
       "    <tr>\n",
       "      <th>timestamp</th>\n",
       "      <th></th>\n",
       "      <th></th>\n",
       "      <th></th>\n",
       "      <th></th>\n",
       "      <th></th>\n",
       "      <th></th>\n",
       "    </tr>\n",
       "  </thead>\n",
       "  <tbody>\n",
       "    <tr>\n",
       "      <th>2011-01-04 21:00:00</th>\n",
       "      <td>1001741</td>\n",
       "      <td>FRA</td>\n",
       "      <td>2011-01-04-21</td>\n",
       "      <td>1</td>\n",
       "      <td>25</td>\n",
       "      <td>2019460</td>\n",
       "    </tr>\n",
       "    <tr>\n",
       "      <th>2011-01-04 21:00:00</th>\n",
       "      <td>1000791</td>\n",
       "      <td>FRA</td>\n",
       "      <td>2011-01-04-21</td>\n",
       "      <td>1</td>\n",
       "      <td>15</td>\n",
       "      <td>2019461</td>\n",
       "    </tr>\n",
       "    <tr>\n",
       "      <th>2011-01-04 21:00:00</th>\n",
       "      <td>1000516</td>\n",
       "      <td>FRA</td>\n",
       "      <td>2011-01-04-21</td>\n",
       "      <td>1</td>\n",
       "      <td>24</td>\n",
       "      <td>2000798</td>\n",
       "    </tr>\n",
       "    <tr>\n",
       "      <th>2011-01-04 21:00:00</th>\n",
       "      <td>1000071</td>\n",
       "      <td>FRA</td>\n",
       "      <td>2011-01-04-21</td>\n",
       "      <td>1</td>\n",
       "      <td>12</td>\n",
       "      <td>2000798</td>\n",
       "    </tr>\n",
       "    <tr>\n",
       "      <th>2011-01-04 21:00:00</th>\n",
       "      <td>1000686</td>\n",
       "      <td>FRA</td>\n",
       "      <td>2011-01-04-21</td>\n",
       "      <td>1</td>\n",
       "      <td>144</td>\n",
       "      <td>2000798</td>\n",
       "    </tr>\n",
       "  </tbody>\n",
       "</table>\n",
       "</div>"
      ],
      "text/plain": [
       "                      client paysclient      timestamp  canal  montant  \\\n",
       "timestamp                                                                \n",
       "2011-01-04 21:00:00  1001741        FRA  2011-01-04-21      1       25   \n",
       "2011-01-04 21:00:00  1000791        FRA  2011-01-04-21      1       15   \n",
       "2011-01-04 21:00:00  1000516        FRA  2011-01-04-21      1       24   \n",
       "2011-01-04 21:00:00  1000071        FRA  2011-01-04-21      1       12   \n",
       "2011-01-04 21:00:00  1000686        FRA  2011-01-04-21      1      144   \n",
       "\n",
       "                     commercant  \n",
       "timestamp                        \n",
       "2011-01-04 21:00:00     2019460  \n",
       "2011-01-04 21:00:00     2019461  \n",
       "2011-01-04 21:00:00     2000798  \n",
       "2011-01-04 21:00:00     2000798  \n",
       "2011-01-04 21:00:00     2000798  "
      ]
     },
     "execution_count": 10,
     "metadata": {},
     "output_type": "execute_result"
    }
   ],
   "source": [
    "time_series = df\n",
    "print type(time_series)\n",
    "time_series.index = pd.to_datetime(time_series.timestamp)\n",
    "time_series.head()"
   ]
  },
  {
   "cell_type": "code",
   "execution_count": 11,
   "metadata": {
    "collapsed": false
   },
   "outputs": [
    {
     "data": {
      "text/plain": [
       "[<matplotlib.lines.Line2D at 0x7f0780041350>]"
      ]
     },
     "execution_count": 11,
     "metadata": {},
     "output_type": "execute_result"
    },
    {
     "data": {
      "image/png": "[encoded data removed]",
      "text/plain": [
       "<matplotlib.figure.Figure at 0x7f0752f52b10>"
      ]
     },
     "metadata": {},
     "output_type": "display_data"
    }
   ],
   "source": [
    "time_series_aggregated = time_series.resample('W-Mon', how=sum)\n",
    "plt.plot_date(time_series_aggregated.index,time_series_aggregated.montant,fmt=\"r-\",label='depenses')"
   ]
  },
  {
   "cell_type": "markdown",
   "metadata": {},
   "source": [
    "On remarque un pic de dépenses en début d'année puis elles se stabilisent en cours d'année."
   ]
  },
  {
   "cell_type": "markdown",
   "metadata": {},
   "source": [
    "####I.1.4) Répartition des dépenses en fonction du canal d'achat"
   ]
  },
  {
   "cell_type": "code",
   "execution_count": 12,
   "metadata": {
    "collapsed": false
   },
   "outputs": [
    {
     "data": {
      "text/plain": [
       "([<matplotlib.patches.Wedge at 0x7f0752170e50>,\n",
       "  <matplotlib.patches.Wedge at 0x7f075218c1d0>],\n",
       " [<matplotlib.text.Text at 0x7f075217e850>,\n",
       "  <matplotlib.text.Text at 0x7f075218cb90>],\n",
       " [<matplotlib.text.Text at 0x7f075217ed50>,\n",
       "  <matplotlib.text.Text at 0x7f075219b090>])"
      ]
     },
     "execution_count": 12,
     "metadata": {},
     "output_type": "execute_result"
    },
    {
     "data": {
      "image/png": "[encoded data removed]",
      "text/plain": [
       "<matplotlib.figure.Figure at 0x7f074cb87190>"
      ]
     },
     "metadata": {},
     "output_type": "display_data"
    }
   ],
   "source": [
    "canal_1 = df[df['canal']==1]\n",
    "canal_2 = df[df['canal']==2]\n",
    "name = ['canal 1','canal 2']\n",
    "data_plot = [len(canal_1),len(canal_2)]\n",
    "explode=(0.15,0.5)\n",
    "plt.pie(data_plot, explode=explode, labels=name, autopct='%1.1f%%', startangle=0, shadow=True)"
   ]
  },
  {
   "cell_type": "markdown",
   "metadata": {},
   "source": [
    "99,1 % des achats se font via canal 1 alors que 0.9% se font à travers le canal 2."
   ]
  },
  {
   "cell_type": "markdown",
   "metadata": {},
   "source": [
    "####I.1.5) Répartition des dépenses en fonction du commerçant"
   ]
  },
  {
   "cell_type": "code",
   "execution_count": 13,
   "metadata": {
    "collapsed": false
   },
   "outputs": [
    {
     "data": {
      "image/png": "[encoded data removed]",
      "text/plain": [
       "<matplotlib.figure.Figure at 0x7f0752214c90>"
      ]
     },
     "metadata": {},
     "output_type": "display_data"
    }
   ],
   "source": [
    "aggregated_commercant = df.groupby('commercant')[['montant']].sum()\n",
    "\n",
    "#plt.bar(aggregated_commercant.index.values,aggregated_commercant.montant.values)\n",
    "plt.hist(aggregated_commercant.montant.values,bins=200)\n",
    "plt.axis([0,600,0,35000])\n",
    "plt.xlabel('store')\n",
    "plt.ylabel('montant')\n",
    "plt.title('montant depense par commercant')\n",
    "plt.show()"
   ]
  },
  {
   "cell_type": "markdown",
   "metadata": {},
   "source": [
    "##II) Apprentissage non supervisé"
   ]
  },
  {
   "cell_type": "markdown",
   "metadata": {},
   "source": [
    "###II.2) Aggregation par client"
   ]
  },
  {
   "cell_type": "code",
   "execution_count": 14,
   "metadata": {
    "collapsed": false
   },
   "outputs": [
    {
     "data": {
      "text/html": [
       "<div>\n",
       "<table border=\"1\" class=\"dataframe\">\n",
       "  <thead>\n",
       "    <tr>\n",
       "      <th></th>\n",
       "      <th>canal</th>\n",
       "      <th>commercant</th>\n",
       "      <th>montant</th>\n",
       "    </tr>\n",
       "    <tr>\n",
       "      <th></th>\n",
       "      <th>&lt;lambda&gt;</th>\n",
       "      <th>&lt;lambda&gt;</th>\n",
       "      <th>sum</th>\n",
       "    </tr>\n",
       "    <tr>\n",
       "      <th>client</th>\n",
       "      <th></th>\n",
       "      <th></th>\n",
       "      <th></th>\n",
       "    </tr>\n",
       "  </thead>\n",
       "  <tbody>\n",
       "    <tr>\n",
       "      <th>1000001</th>\n",
       "      <td>1</td>\n",
       "      <td>2000087</td>\n",
       "      <td>24</td>\n",
       "    </tr>\n",
       "    <tr>\n",
       "      <th>1000002</th>\n",
       "      <td>1</td>\n",
       "      <td>2000084</td>\n",
       "      <td>86</td>\n",
       "    </tr>\n",
       "    <tr>\n",
       "      <th>1000003</th>\n",
       "      <td>1</td>\n",
       "      <td>2000176</td>\n",
       "      <td>119</td>\n",
       "    </tr>\n",
       "    <tr>\n",
       "      <th>1000004</th>\n",
       "      <td>1</td>\n",
       "      <td>2000159</td>\n",
       "      <td>384</td>\n",
       "    </tr>\n",
       "    <tr>\n",
       "      <th>1000005</th>\n",
       "      <td>1</td>\n",
       "      <td>2000141</td>\n",
       "      <td>523</td>\n",
       "    </tr>\n",
       "  </tbody>\n",
       "</table>\n",
       "</div>"
      ],
      "text/plain": [
       "           canal commercant montant\n",
       "        <lambda>   <lambda>     sum\n",
       "client                             \n",
       "1000001        1    2000087      24\n",
       "1000002        1    2000084      86\n",
       "1000003        1    2000176     119\n",
       "1000004        1    2000159     384\n",
       "1000005        1    2000141     523"
      ]
     },
     "execution_count": 14,
     "metadata": {},
     "output_type": "execute_result"
    }
   ],
   "source": [
    "f = {'montant':['sum'], 'commercant':[lambda x:x.value_counts().index[0]],'canal':[lambda x:x.value_counts().index[0]]}\n",
    "client_vector = df.groupby('client').agg(f)\n",
    "client_vector.head()"
   ]
  },
  {
   "cell_type": "markdown",
   "metadata": {},
   "source": [
    "Question: cette transformation est-t-elle la meilleure pour représenter nos observations?"
   ]
  },
  {
   "cell_type": "code",
   "execution_count": 15,
   "metadata": {
    "collapsed": false
   },
   "outputs": [
    {
     "name": "stdout",
     "output_type": "stream",
     "text": [
      "(3983, 3)\n"
     ]
    }
   ],
   "source": [
    "# scale the dataframe\n",
    "X = client_vector.as_matrix()\n",
    "print X.shape"
   ]
  },
  {
   "cell_type": "code",
   "execution_count": 16,
   "metadata": {
    "collapsed": false
   },
   "outputs": [
    {
     "name": "stdout",
     "output_type": "stream",
     "text": [
      "[  1.00351494e+00   2.11552290e+06   9.03554858e+02]\n",
      "[  3.50258370e-03   1.03434397e+10   1.71935476e+06]\n"
     ]
    }
   ],
   "source": [
    "X_mean = np.mean(X,axis=0)\n",
    "X_var = np.var(X,axis=0)\n",
    "\n",
    "print X_mean\n",
    "print X_var\n",
    "\n",
    "X = preprocessing.scale(X)\n",
    "X_train = X[:X.shape[0]//2,:]\n",
    "X_test = X[X.shape[0]//2:,:]"
   ]
  },
  {
   "cell_type": "code",
   "execution_count": 17,
   "metadata": {
    "collapsed": false
   },
   "outputs": [
    {
     "name": "stdout",
     "output_type": "stream",
     "text": [
      "(3983, 2)\n"
     ]
    },
    {
     "data": {
      "text/plain": [
       "<matplotlib.collections.PathCollection at 0x7f0750d789d0>"
      ]
     },
     "execution_count": 17,
     "metadata": {},
     "output_type": "execute_result"
    },
    {
     "data": {
      "image/png": "[encoded data removed]",
      "text/plain": [
       "<matplotlib.figure.Figure at 0x7f0752b8f750>"
      ]
     },
     "metadata": {},
     "output_type": "display_data"
    }
   ],
   "source": [
    "# PCA to data repartition \n",
    "pca = PCA(n_components=2)   # generate the two principal axes\n",
    "axes = pca.fit(X)\n",
    "princ_comp = np.dot(X,axes.components_.T)\n",
    "print princ_comp.shape\n",
    "plt.scatter(princ_comp[:,0], princ_comp[:,1], alpha=0.5)"
   ]
  },
  {
   "cell_type": "code",
   "execution_count": 18,
   "metadata": {
    "collapsed": false
   },
   "outputs": [],
   "source": [
    "estimator = KMeans(n_clusters=3, init='k-means++')\n",
    "estimator.fit(X_train)\n",
    "res = estimator.predict(X_test)"
   ]
  },
  {
   "cell_type": "markdown",
   "metadata": {},
   "source": [
    "Comment déterminer le nombre de cluster optimal ?"
   ]
  },
  {
   "cell_type": "markdown",
   "metadata": {
    "collapsed": true
   },
   "source": [
    "###II.3) Interpretation des clusters"
   ]
  },
  {
   "cell_type": "code",
   "execution_count": 19,
   "metadata": {
    "collapsed": true
   },
   "outputs": [],
   "source": [
    "tmp = estimator.fit(X_train)\n",
    "centroids = tmp.cluster_centers_"
   ]
  },
  {
   "cell_type": "code",
   "execution_count": 20,
   "metadata": {
    "collapsed": false
   },
   "outputs": [
    {
     "name": "stdout",
     "output_type": "stream",
     "text": [
      "[[  1.00000000e+00   2.01445006e+06   3.82734785e+02]\n",
      " [  1.00000000e+00   2.01703991e+06   2.65446231e+03]\n",
      " [  2.00000000e+00   2.02625900e+06   5.21000000e+02]]\n"
     ]
    }
   ],
   "source": [
    "centroids = centroids * (X_var**0.5) + X_mean\n",
    "print centroids"
   ]
  },
  {
   "cell_type": "markdown",
   "metadata": {},
   "source": [
    "On peut intérpréter un cluster à partir de ces centroids:\n",
    "- Les clients associés au centroids 1 sont principalement des clients qui consomment sur le canal 1 et achétenet souvent du commerçant 2014275. Le montant totale dépensé par ses clients est au alentour de 269 euros sur 6 mois, soit 44.83 euros par mois.\n",
    "- Les clients associés au centroids 1 sont principalement des clients qui consomment sur le canal 1 et achétenet souvent du commerçant 2017848. Le montant totale dépensé par ses clients est au alentour de 4075 euros sur 6 mois, soit 679.1 euros par mois.\n",
    "- Les clients associés au centroids 1 sont principalement des clients qui consomment sur le canal 1 et achétenet souvent du commerçant 2016004. Le montant totale dépensé par ses clients est au alentour de 4422 euros sur 6 mois, soit 737 euros par mois.\n",
    "\n",
    "Req: Il faut garder en tête que nos clusters ne sont pas purs (on a juste analysé les centroids qui sont les plus représentatifs de nos observations)"
   ]
  },
  {
   "cell_type": "markdown",
   "metadata": {},
   "source": [
    "###II.4) Sans aggrégation par client"
   ]
  },
  {
   "cell_type": "code",
   "execution_count": 21,
   "metadata": {
    "collapsed": false
   },
   "outputs": [
    {
     "name": "stdout",
     "output_type": "stream",
     "text": [
      "[  1.00351494e+00   2.11552290e+06   9.03554858e+02]\n",
      "[  3.50258370e-03   1.03434397e+10   1.71935476e+06]\n"
     ]
    },
    {
     "name": "stderr",
     "output_type": "stream",
     "text": [
      "/home/khalil/anaconda/lib/python2.7/site-packages/sklearn/preprocessing/data.py:153: UserWarning: Numerical issues were encountered when centering the data and might not be solved. Dataset may contain too large values. You may need to prescale your features.\n",
      "  warnings.warn(\"Numerical issues were encountered \"\n"
     ]
    }
   ],
   "source": [
    "# scale the dataframe\n",
    "features = ['canal','commercant','montant']\n",
    "X = df[features].as_matrix()\n",
    "\n",
    "print X_mean\n",
    "print X_var\n",
    "\n",
    "X = preprocessing.scale(X)\n",
    "X_train = X[:X.shape[0]//2,:]\n",
    "X_test = X[X.shape[0]//2:,:]\n",
    "\n",
    "estimator = KMeans(n_clusters=3, init='k-means++')\n",
    "estimator.fit(X_train)\n",
    "res = estimator.predict(X_test)\n"
   ]
  },
  {
   "cell_type": "code",
   "execution_count": 22,
   "metadata": {
    "collapsed": false
   },
   "outputs": [],
   "source": [
    "dic = []\n",
    "def func(x):\n",
    "    client_id = df[df['client']==x][features]\n",
    "    client_matrix = client_id.as_matrix()\n",
    "    prediction = estimator.predict(client_matrix)\n",
    "    cluster = stats.mode(prediction)[0][0]\n",
    "    dic.append((x,cluster))\n",
    "    \n",
    "map(func,np.unique(df.client.values))\n",
    "dic =  dict(dic)"
   ]
  },
  {
   "cell_type": "markdown",
   "metadata": {},
   "source": [
    "\"Dic\" contient le cluster dans lequel chaque client il appartient."
   ]
  },
  {
   "cell_type": "markdown",
   "metadata": {},
   "source": [
    "##III) Apprentissage supervisé"
   ]
  },
  {
   "cell_type": "markdown",
   "metadata": {},
   "source": [
    "### III.1) Labellisation"
   ]
  },
  {
   "cell_type": "code",
   "execution_count": 23,
   "metadata": {
    "collapsed": false
   },
   "outputs": [
    {
     "data": {
      "text/html": [
       "<div>\n",
       "<table border=\"1\" class=\"dataframe\">\n",
       "  <thead>\n",
       "    <tr style=\"text-align: right;\">\n",
       "      <th></th>\n",
       "      <th>client</th>\n",
       "      <th>paysclient</th>\n",
       "      <th>timestamp</th>\n",
       "      <th>canal</th>\n",
       "      <th>montant</th>\n",
       "      <th>commercant</th>\n",
       "      <th>label</th>\n",
       "    </tr>\n",
       "    <tr>\n",
       "      <th>timestamp</th>\n",
       "      <th></th>\n",
       "      <th></th>\n",
       "      <th></th>\n",
       "      <th></th>\n",
       "      <th></th>\n",
       "      <th></th>\n",
       "      <th></th>\n",
       "    </tr>\n",
       "  </thead>\n",
       "  <tbody>\n",
       "    <tr>\n",
       "      <th>2011-01-04 21:00:00</th>\n",
       "      <td>1001741</td>\n",
       "      <td>FRA</td>\n",
       "      <td>2011-01-04-21</td>\n",
       "      <td>1</td>\n",
       "      <td>25</td>\n",
       "      <td>2019460</td>\n",
       "      <td>1</td>\n",
       "    </tr>\n",
       "    <tr>\n",
       "      <th>2011-01-04 21:00:00</th>\n",
       "      <td>1000791</td>\n",
       "      <td>FRA</td>\n",
       "      <td>2011-01-04-21</td>\n",
       "      <td>1</td>\n",
       "      <td>15</td>\n",
       "      <td>2019461</td>\n",
       "      <td>1</td>\n",
       "    </tr>\n",
       "    <tr>\n",
       "      <th>2011-01-04 21:00:00</th>\n",
       "      <td>1000516</td>\n",
       "      <td>FRA</td>\n",
       "      <td>2011-01-04-21</td>\n",
       "      <td>1</td>\n",
       "      <td>24</td>\n",
       "      <td>2000798</td>\n",
       "      <td>1</td>\n",
       "    </tr>\n",
       "    <tr>\n",
       "      <th>2011-01-04 21:00:00</th>\n",
       "      <td>1000071</td>\n",
       "      <td>FRA</td>\n",
       "      <td>2011-01-04-21</td>\n",
       "      <td>1</td>\n",
       "      <td>12</td>\n",
       "      <td>2000798</td>\n",
       "      <td>1</td>\n",
       "    </tr>\n",
       "    <tr>\n",
       "      <th>2011-01-04 21:00:00</th>\n",
       "      <td>1000686</td>\n",
       "      <td>FRA</td>\n",
       "      <td>2011-01-04-21</td>\n",
       "      <td>1</td>\n",
       "      <td>144</td>\n",
       "      <td>2000798</td>\n",
       "      <td>1</td>\n",
       "    </tr>\n",
       "  </tbody>\n",
       "</table>\n",
       "</div>"
      ],
      "text/plain": [
       "                      client paysclient      timestamp  canal  montant  \\\n",
       "timestamp                                                                \n",
       "2011-01-04 21:00:00  1001741        FRA  2011-01-04-21      1       25   \n",
       "2011-01-04 21:00:00  1000791        FRA  2011-01-04-21      1       15   \n",
       "2011-01-04 21:00:00  1000516        FRA  2011-01-04-21      1       24   \n",
       "2011-01-04 21:00:00  1000071        FRA  2011-01-04-21      1       12   \n",
       "2011-01-04 21:00:00  1000686        FRA  2011-01-04-21      1      144   \n",
       "\n",
       "                     commercant  label  \n",
       "timestamp                               \n",
       "2011-01-04 21:00:00     2019460      1  \n",
       "2011-01-04 21:00:00     2019461      1  \n",
       "2011-01-04 21:00:00     2000798      1  \n",
       "2011-01-04 21:00:00     2000798      1  \n",
       "2011-01-04 21:00:00     2000798      1  "
      ]
     },
     "execution_count": 23,
     "metadata": {},
     "output_type": "execute_result"
    }
   ],
   "source": [
    "for idx in dic:\n",
    "     df.loc[df['client']==idx,'label'] = dic[idx]    # adding labels to the data \n",
    "df.head()"
   ]
  },
  {
   "cell_type": "markdown",
   "metadata": {},
   "source": [
    "### III.2) Learning and Prediction phase"
   ]
  },
  {
   "cell_type": "code",
   "execution_count": 24,
   "metadata": {
    "collapsed": false
   },
   "outputs": [
    {
     "name": "stderr",
     "output_type": "stream",
     "text": [
      "/home/khalil/anaconda/lib/python2.7/site-packages/IPython/kernel/__main__.py:5: SettingWithCopyWarning: \n",
      "A value is trying to be set on a copy of a slice from a DataFrame.\n",
      "Try using .loc[row_indexer,col_indexer] = value instead\n",
      "\n",
      "See the the caveats in the documentation: http://pandas.pydata.org/pandas-docs/stable/indexing.html#indexing-view-versus-copy\n"
     ]
    },
    {
     "ename": "MemoryError",
     "evalue": "",
     "output_type": "error",
     "traceback": [
      "\u001b[1;31m---------------------------------------------------------------------------\u001b[0m",
      "\u001b[1;31mMemoryError\u001b[0m                               Traceback (most recent call last)",
      "\u001b[1;32m<ipython-input-24-0640ffcbb345>\u001b[0m in \u001b[0;36m<module>\u001b[1;34m()\u001b[0m\n\u001b[0;32m      7\u001b[0m \u001b[0mformula\u001b[0m \u001b[1;33m=\u001b[0m \u001b[1;34m'label ~  client + montant + commercant'\u001b[0m\u001b[1;33m\u001b[0m\u001b[0m\n\u001b[0;32m      8\u001b[0m \u001b[1;33m\u001b[0m\u001b[0m\n\u001b[1;32m----> 9\u001b[1;33m \u001b[0my\u001b[0m\u001b[1;33m,\u001b[0m\u001b[0mx\u001b[0m \u001b[1;33m=\u001b[0m \u001b[0mdmatrices\u001b[0m\u001b[1;33m(\u001b[0m\u001b[0mformula\u001b[0m\u001b[1;33m,\u001b[0m \u001b[0mdata\u001b[0m \u001b[1;33m=\u001b[0m \u001b[0mdf_selected\u001b[0m\u001b[1;33m,\u001b[0m  \u001b[0mreturn_type\u001b[0m\u001b[1;33m=\u001b[0m\u001b[1;34m'dataframe'\u001b[0m\u001b[1;33m)\u001b[0m\u001b[1;33m\u001b[0m\u001b[0m\n\u001b[0m\u001b[0;32m     10\u001b[0m \u001b[1;33m\u001b[0m\u001b[0m\n\u001b[0;32m     11\u001b[0m \u001b[0mn_train\u001b[0m \u001b[1;33m=\u001b[0m \u001b[0mdf_selected\u001b[0m\u001b[1;33m.\u001b[0m\u001b[0mshape\u001b[0m\u001b[1;33m[\u001b[0m\u001b[1;36m0\u001b[0m\u001b[1;33m]\u001b[0m\u001b[1;33m\u001b[0m\u001b[0m\n",
      "\u001b[1;32m/home/khalil/anaconda/lib/python2.7/site-packages/patsy/highlevel.pyc\u001b[0m in \u001b[0;36mdmatrices\u001b[1;34m(formula_like, data, eval_env, NA_action, return_type)\u001b[0m\n\u001b[0;32m    295\u001b[0m     \u001b[0meval_env\u001b[0m \u001b[1;33m=\u001b[0m \u001b[0mEvalEnvironment\u001b[0m\u001b[1;33m.\u001b[0m\u001b[0mcapture\u001b[0m\u001b[1;33m(\u001b[0m\u001b[0meval_env\u001b[0m\u001b[1;33m,\u001b[0m \u001b[0mreference\u001b[0m\u001b[1;33m=\u001b[0m\u001b[1;36m1\u001b[0m\u001b[1;33m)\u001b[0m\u001b[1;33m\u001b[0m\u001b[0m\n\u001b[0;32m    296\u001b[0m     (lhs, rhs) = _do_highlevel_design(formula_like, data, eval_env,\n\u001b[1;32m--> 297\u001b[1;33m                                       NA_action, return_type)\n\u001b[0m\u001b[0;32m    298\u001b[0m     \u001b[1;32mif\u001b[0m \u001b[0mlhs\u001b[0m\u001b[1;33m.\u001b[0m\u001b[0mshape\u001b[0m\u001b[1;33m[\u001b[0m\u001b[1;36m1\u001b[0m\u001b[1;33m]\u001b[0m \u001b[1;33m==\u001b[0m \u001b[1;36m0\u001b[0m\u001b[1;33m:\u001b[0m\u001b[1;33m\u001b[0m\u001b[0m\n\u001b[0;32m    299\u001b[0m         \u001b[1;32mraise\u001b[0m \u001b[0mPatsyError\u001b[0m\u001b[1;33m(\u001b[0m\u001b[1;34m\"model is missing required outcome variables\"\u001b[0m\u001b[1;33m)\u001b[0m\u001b[1;33m\u001b[0m\u001b[0m\n",
      "\u001b[1;32m/home/khalil/anaconda/lib/python2.7/site-packages/patsy/highlevel.pyc\u001b[0m in \u001b[0;36m_do_highlevel_design\u001b[1;34m(formula_like, data, eval_env, NA_action, return_type)\u001b[0m\n\u001b[0;32m    150\u001b[0m         \u001b[1;32mreturn\u001b[0m \u001b[0miter\u001b[0m\u001b[1;33m(\u001b[0m\u001b[1;33m[\u001b[0m\u001b[0mdata\u001b[0m\u001b[1;33m]\u001b[0m\u001b[1;33m)\u001b[0m\u001b[1;33m\u001b[0m\u001b[0m\n\u001b[0;32m    151\u001b[0m     builders = _try_incr_builders(formula_like, data_iter_maker, eval_env,\n\u001b[1;32m--> 152\u001b[1;33m                                   NA_action)\n\u001b[0m\u001b[0;32m    153\u001b[0m     \u001b[1;32mif\u001b[0m \u001b[0mbuilders\u001b[0m \u001b[1;32mis\u001b[0m \u001b[1;32mnot\u001b[0m \u001b[0mNone\u001b[0m\u001b[1;33m:\u001b[0m\u001b[1;33m\u001b[0m\u001b[0m\n\u001b[0;32m    154\u001b[0m         return build_design_matrices(builders, data,\n",
      "\u001b[1;32m/home/khalil/anaconda/lib/python2.7/site-packages/patsy/highlevel.pyc\u001b[0m in \u001b[0;36m_try_incr_builders\u001b[1;34m(formula_like, data_iter_maker, eval_env, NA_action)\u001b[0m\n\u001b[0;32m     55\u001b[0m                                        formula_like.rhs_termlist],\n\u001b[0;32m     56\u001b[0m                                       \u001b[0mdata_iter_maker\u001b[0m\u001b[1;33m,\u001b[0m\u001b[1;33m\u001b[0m\u001b[0m\n\u001b[1;32m---> 57\u001b[1;33m                                       NA_action)\n\u001b[0m\u001b[0;32m     58\u001b[0m     \u001b[1;32melse\u001b[0m\u001b[1;33m:\u001b[0m\u001b[1;33m\u001b[0m\u001b[0m\n\u001b[0;32m     59\u001b[0m         \u001b[1;32mreturn\u001b[0m \u001b[0mNone\u001b[0m\u001b[1;33m\u001b[0m\u001b[0m\n",
      "\u001b[1;32m/home/khalil/anaconda/lib/python2.7/site-packages/patsy/build.pyc\u001b[0m in \u001b[0;36mdesign_matrix_builders\u001b[1;34m(termlists, data_iter_maker, NA_action)\u001b[0m\n\u001b[0;32m    678\u001b[0m         result = _make_term_column_builders(termlist,\n\u001b[0;32m    679\u001b[0m                                             \u001b[0mnum_column_counts\u001b[0m\u001b[1;33m,\u001b[0m\u001b[1;33m\u001b[0m\u001b[0m\n\u001b[1;32m--> 680\u001b[1;33m                                             cat_levels_contrasts)\n\u001b[0m\u001b[0;32m    681\u001b[0m         \u001b[0mnew_term_order\u001b[0m\u001b[1;33m,\u001b[0m \u001b[0mterm_to_column_builders\u001b[0m \u001b[1;33m=\u001b[0m \u001b[0mresult\u001b[0m\u001b[1;33m\u001b[0m\u001b[0m\n\u001b[0;32m    682\u001b[0m         \u001b[1;32massert\u001b[0m \u001b[0mfrozenset\u001b[0m\u001b[1;33m(\u001b[0m\u001b[0mnew_term_order\u001b[0m\u001b[1;33m)\u001b[0m \u001b[1;33m==\u001b[0m \u001b[0mfrozenset\u001b[0m\u001b[1;33m(\u001b[0m\u001b[0mtermlist\u001b[0m\u001b[1;33m)\u001b[0m\u001b[1;33m\u001b[0m\u001b[0m\n",
      "\u001b[1;32m/home/khalil/anaconda/lib/python2.7/site-packages/patsy/build.pyc\u001b[0m in \u001b[0;36m_make_term_column_builders\u001b[1;34m(terms, num_column_counts, cat_levels_contrasts)\u001b[0m\n\u001b[0;32m    607\u001b[0m                         coded = code_contrast_matrix(factor_coding[factor],\n\u001b[0;32m    608\u001b[0m                                                      \u001b[0mlevels\u001b[0m\u001b[1;33m,\u001b[0m \u001b[0mcontrast\u001b[0m\u001b[1;33m,\u001b[0m\u001b[1;33m\u001b[0m\u001b[0m\n\u001b[1;32m--> 609\u001b[1;33m                                                      default=Treatment)\n\u001b[0m\u001b[0;32m    610\u001b[0m                         \u001b[0mcat_contrasts\u001b[0m\u001b[1;33m[\u001b[0m\u001b[0mfactor\u001b[0m\u001b[1;33m]\u001b[0m \u001b[1;33m=\u001b[0m \u001b[0mcoded\u001b[0m\u001b[1;33m\u001b[0m\u001b[0m\n\u001b[0;32m    611\u001b[0m                 column_builder = _ColumnBuilder(builder_factors,\n",
      "\u001b[1;32m/home/khalil/anaconda/lib/python2.7/site-packages/patsy/contrasts.pyc\u001b[0m in \u001b[0;36mcode_contrast_matrix\u001b[1;34m(intercept, levels, contrast, default)\u001b[0m\n\u001b[0;32m    574\u001b[0m         \u001b[1;32mreturn\u001b[0m \u001b[0mcontrast\u001b[0m\u001b[1;33m.\u001b[0m\u001b[0mcode_with_intercept\u001b[0m\u001b[1;33m(\u001b[0m\u001b[0mlevels\u001b[0m\u001b[1;33m)\u001b[0m\u001b[1;33m\u001b[0m\u001b[0m\n\u001b[0;32m    575\u001b[0m     \u001b[1;32melse\u001b[0m\u001b[1;33m:\u001b[0m\u001b[1;33m\u001b[0m\u001b[0m\n\u001b[1;32m--> 576\u001b[1;33m         \u001b[1;32mreturn\u001b[0m \u001b[0mcontrast\u001b[0m\u001b[1;33m.\u001b[0m\u001b[0mcode_without_intercept\u001b[0m\u001b[1;33m(\u001b[0m\u001b[0mlevels\u001b[0m\u001b[1;33m)\u001b[0m\u001b[1;33m\u001b[0m\u001b[0m\n\u001b[0m\u001b[0;32m    577\u001b[0m \u001b[1;33m\u001b[0m\u001b[0m\n",
      "\u001b[1;32m/home/khalil/anaconda/lib/python2.7/site-packages/patsy/contrasts.pyc\u001b[0m in \u001b[0;36mcode_without_intercept\u001b[1;34m(self, levels)\u001b[0m\n\u001b[0;32m    170\u001b[0m         \u001b[1;32melse\u001b[0m\u001b[1;33m:\u001b[0m\u001b[1;33m\u001b[0m\u001b[0m\n\u001b[0;32m    171\u001b[0m             \u001b[0mreference\u001b[0m \u001b[1;33m=\u001b[0m \u001b[0m_get_level\u001b[0m\u001b[1;33m(\u001b[0m\u001b[0mlevels\u001b[0m\u001b[1;33m,\u001b[0m \u001b[0mself\u001b[0m\u001b[1;33m.\u001b[0m\u001b[0mreference\u001b[0m\u001b[1;33m)\u001b[0m\u001b[1;33m\u001b[0m\u001b[0m\n\u001b[1;32m--> 172\u001b[1;33m         \u001b[0meye\u001b[0m \u001b[1;33m=\u001b[0m \u001b[0mnp\u001b[0m\u001b[1;33m.\u001b[0m\u001b[0meye\u001b[0m\u001b[1;33m(\u001b[0m\u001b[0mlen\u001b[0m\u001b[1;33m(\u001b[0m\u001b[0mlevels\u001b[0m\u001b[1;33m)\u001b[0m \u001b[1;33m-\u001b[0m \u001b[1;36m1\u001b[0m\u001b[1;33m)\u001b[0m\u001b[1;33m\u001b[0m\u001b[0m\n\u001b[0m\u001b[0;32m    173\u001b[0m         contrasts = np.vstack((eye[:reference, :],\n\u001b[0;32m    174\u001b[0m                                 \u001b[0mnp\u001b[0m\u001b[1;33m.\u001b[0m\u001b[0mzeros\u001b[0m\u001b[1;33m(\u001b[0m\u001b[1;33m(\u001b[0m\u001b[1;36m1\u001b[0m\u001b[1;33m,\u001b[0m \u001b[0mlen\u001b[0m\u001b[1;33m(\u001b[0m\u001b[0mlevels\u001b[0m\u001b[1;33m)\u001b[0m \u001b[1;33m-\u001b[0m \u001b[1;36m1\u001b[0m\u001b[1;33m)\u001b[0m\u001b[1;33m)\u001b[0m\u001b[1;33m,\u001b[0m\u001b[1;33m\u001b[0m\u001b[0m\n",
      "\u001b[1;32m/home/khalil/.local/lib/python2.7/site-packages/numpy/lib/twodim_base.pyc\u001b[0m in \u001b[0;36meye\u001b[1;34m(N, M, k, dtype)\u001b[0m\n\u001b[0;32m    229\u001b[0m     \u001b[1;32mif\u001b[0m \u001b[0mM\u001b[0m \u001b[1;32mis\u001b[0m \u001b[0mNone\u001b[0m\u001b[1;33m:\u001b[0m\u001b[1;33m\u001b[0m\u001b[0m\n\u001b[0;32m    230\u001b[0m         \u001b[0mM\u001b[0m \u001b[1;33m=\u001b[0m \u001b[0mN\u001b[0m\u001b[1;33m\u001b[0m\u001b[0m\n\u001b[1;32m--> 231\u001b[1;33m     \u001b[0mm\u001b[0m \u001b[1;33m=\u001b[0m \u001b[0mzeros\u001b[0m\u001b[1;33m(\u001b[0m\u001b[1;33m(\u001b[0m\u001b[0mN\u001b[0m\u001b[1;33m,\u001b[0m \u001b[0mM\u001b[0m\u001b[1;33m)\u001b[0m\u001b[1;33m,\u001b[0m \u001b[0mdtype\u001b[0m\u001b[1;33m=\u001b[0m\u001b[0mdtype\u001b[0m\u001b[1;33m)\u001b[0m\u001b[1;33m\u001b[0m\u001b[0m\n\u001b[0m\u001b[0;32m    232\u001b[0m     \u001b[1;32mif\u001b[0m \u001b[0mk\u001b[0m \u001b[1;33m>=\u001b[0m \u001b[0mM\u001b[0m\u001b[1;33m:\u001b[0m\u001b[1;33m\u001b[0m\u001b[0m\n\u001b[0;32m    233\u001b[0m         \u001b[1;32mreturn\u001b[0m \u001b[0mm\u001b[0m\u001b[1;33m\u001b[0m\u001b[0m\n",
      "\u001b[1;31mMemoryError\u001b[0m: "
     ]
    }
   ],
   "source": [
    "\n",
    "features = ['client','montant','commercant','label']\n",
    "df_selected = df[features]\n",
    "\n",
    "df_selected['commercant'] = df_selected.commercant.astype(str)\n",
    "\n",
    "formula = 'label ~  client + montant + commercant'\n",
    "\n",
    "y,x = dmatrices(formula, data = df_selected,  return_type='dataframe')\n",
    "\n",
    "n_train = df_selected.shape[0]\n",
    "X_train = x[:n_train//2].as_matrix()\n",
    "y_train = y[:n_train//2].as_matrix()[:,0]    # select the firt column of y\n",
    "\n",
    "X_test = x[n_train//2:].as_matrix()"
   ]
  },
  {
   "cell_type": "markdown",
   "metadata": {},
   "source": [
    "La catégorization des commerçants entraine des erreurs mémoire (on a beaucoup de commerçant). Ce sera mieux de les rassembler dans des clusters puis lancer l'algorithme d'apprentissage."
   ]
  },
  {
   "cell_type": "code",
   "execution_count": null,
   "metadata": {
    "collapsed": true
   },
   "outputs": [],
   "source": []
  },
  {
   "cell_type": "code",
   "execution_count": null,
   "metadata": {
    "collapsed": true
   },
   "outputs": [],
   "source": []
  },
  {
   "cell_type": "code",
   "execution_count": null,
   "metadata": {
    "collapsed": true
   },
   "outputs": [],
   "source": []
  }
 ],
 "metadata": {
  "kernelspec": {
   "display_name": "Python 2",
   "language": "python",
   "name": "python2"
  },
  "language_info": {
   "codemirror_mode": {
    "name": "ipython",
    "version": 2
   },
   "file_extension": ".py",
   "mimetype": "text/x-python",
   "name": "python",
   "nbconvert_exporter": "python",
   "pygments_lexer": "ipython2",
   "version": "2.7.10"
  }
 },
 "nbformat": 4,
 "nbformat_minor": 0
}
