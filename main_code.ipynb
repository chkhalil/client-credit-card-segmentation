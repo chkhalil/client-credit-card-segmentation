{
 "cells": [
  {
   "cell_type": "code",
   "execution_count": 259,
   "metadata": {
    "collapsed": false
   },
   "outputs": [],
   "source": [
    "%matplotlib inline\n",
    "import numpy as np\n",
    "import matplotlib.pyplot as plt\n",
    "import pandas as pd\n",
    "from sklearn import preprocessing\n",
    "from sklearn.cluster import KMeans"
   ]
  },
  {
   "cell_type": "code",
   "execution_count": 172,
   "metadata": {
    "collapsed": false
   },
   "outputs": [
    {
     "data": {
      "text/html": [
       "<div>\n",
       "<table border=\"1\" class=\"dataframe\">\n",
       "  <thead>\n",
       "    <tr style=\"text-align: right;\">\n",
       "      <th></th>\n",
       "      <th>client</th>\n",
       "      <th>paysclient</th>\n",
       "      <th>timestamp</th>\n",
       "      <th>canal</th>\n",
       "      <th>montant</th>\n",
       "      <th>commercant</th>\n",
       "    </tr>\n",
       "  </thead>\n",
       "  <tbody>\n",
       "    <tr>\n",
       "      <th>0</th>\n",
       "      <td>1001741</td>\n",
       "      <td>FRA</td>\n",
       "      <td>2011-01-04-21</td>\n",
       "      <td>1</td>\n",
       "      <td>25</td>\n",
       "      <td>2019460</td>\n",
       "    </tr>\n",
       "    <tr>\n",
       "      <th>1</th>\n",
       "      <td>1000791</td>\n",
       "      <td>FRA</td>\n",
       "      <td>2011-01-04-21</td>\n",
       "      <td>1</td>\n",
       "      <td>15</td>\n",
       "      <td>2019461</td>\n",
       "    </tr>\n",
       "    <tr>\n",
       "      <th>2</th>\n",
       "      <td>1000516</td>\n",
       "      <td>FRA</td>\n",
       "      <td>2011-01-04-21</td>\n",
       "      <td>1</td>\n",
       "      <td>24</td>\n",
       "      <td>2000798</td>\n",
       "    </tr>\n",
       "    <tr>\n",
       "      <th>3</th>\n",
       "      <td>1000071</td>\n",
       "      <td>FRA</td>\n",
       "      <td>2011-01-04-21</td>\n",
       "      <td>1</td>\n",
       "      <td>12</td>\n",
       "      <td>2000798</td>\n",
       "    </tr>\n",
       "    <tr>\n",
       "      <th>4</th>\n",
       "      <td>1000686</td>\n",
       "      <td>FRA</td>\n",
       "      <td>2011-01-04-21</td>\n",
       "      <td>1</td>\n",
       "      <td>144</td>\n",
       "      <td>2000798</td>\n",
       "    </tr>\n",
       "  </tbody>\n",
       "</table>\n",
       "</div>"
      ],
      "text/plain": [
       "    client paysclient      timestamp  canal montant  commercant\n",
       "0  1001741        FRA  2011-01-04-21      1      25     2019460\n",
       "1  1000791        FRA  2011-01-04-21      1      15     2019461\n",
       "2  1000516        FRA  2011-01-04-21      1      24     2000798\n",
       "3  1000071        FRA  2011-01-04-21      1      12     2000798\n",
       "4  1000686        FRA  2011-01-04-21      1     144     2000798"
      ]
     },
     "execution_count": 172,
     "metadata": {},
     "output_type": "execute_result"
    }
   ],
   "source": [
    "df = pd.read_csv('Classeur1.csv',sep=';')\n",
    "\n",
    "df.replace('\\..*$','', regex=True,inplace='true')# remove the exact hour of transaction (we are concerned by daily transactions)\n",
    "df.head()"
   ]
  },
  {
   "cell_type": "code",
   "execution_count": 173,
   "metadata": {
    "collapsed": false
   },
   "outputs": [
    {
     "data": {
      "text/plain": [
       "client        1.000000\n",
       "paysclient    1.000000\n",
       "timestamp     1.000000\n",
       "canal         0.993128\n",
       "montant       1.000000\n",
       "commercant    1.000000\n",
       "dtype: float64"
      ]
     },
     "execution_count": 173,
     "metadata": {},
     "output_type": "execute_result"
    }
   ],
   "source": [
    "df.count() / df.shape[0]"
   ]
  },
  {
   "cell_type": "code",
   "execution_count": 174,
   "metadata": {
    "collapsed": false
   },
   "outputs": [
    {
     "name": "stdout",
     "output_type": "stream",
     "text": [
      "65076\n"
     ]
    }
   ],
   "source": [
    "df.replace('np.nan',1.0,inplace='true')   # remove nan values in canal\n",
    "print len(np.unique(df.commercant.values))"
   ]
  },
  {
   "cell_type": "markdown",
   "metadata": {},
   "source": [
    "##### Quelques information sur le jeu des données:\n",
    "Ce jeu de données concerne 3983 clients. Il enregistré sur une période de 6 mois commençant de 2010/12/31  jusqu'à 2011/06/30. On a également deux canaux de dépenses (0,1). Quant aux commerçants, on a 65076.\n"
   ]
  },
  {
   "cell_type": "markdown",
   "metadata": {},
   "source": [
    "##I) Analyse descriptive"
   ]
  },
  {
   "cell_type": "markdown",
   "metadata": {},
   "source": [
    "### I.1) Analyse des dépenses\n",
    "#### I.1.1) Analyse globale des dépenses"
   ]
  },
  {
   "cell_type": "code",
   "execution_count": 175,
   "metadata": {
    "collapsed": false
   },
   "outputs": [
    {
     "data": {
      "text/plain": [
       "count    78584.000000\n",
       "mean        45.796333\n",
       "std         83.062752\n",
       "min          0.000000\n",
       "25%         15.000000\n",
       "50%         28.000000\n",
       "75%         51.000000\n",
       "max       6933.000000\n",
       "Name: montant, dtype: float64"
      ]
     },
     "execution_count": 175,
     "metadata": {},
     "output_type": "execute_result"
    }
   ],
   "source": [
    "f = lambda x: float(x.replace(' ', ''))\n",
    "df['montant'] = df.montant.apply(f)  # convert montant from string to float\n",
    "df['montant'].describe()"
   ]
  },
  {
   "cell_type": "code",
   "execution_count": 176,
   "metadata": {
    "collapsed": false
   },
   "outputs": [
    {
     "name": "stdout",
     "output_type": "stream",
     "text": [
      "(78584,)\n",
      "45.7963325868\n"
     ]
    },
    {
     "data": {
      "text/plain": [
       "[300, 400, 0, 200]"
      ]
     },
     "execution_count": 176,
     "metadata": {},
     "output_type": "execute_result"
    },
    {
     "data": {
      "image/png": "[encoded data removed]",
      "text/plain": [
       "<matplotlib.figure.Figure at 0x7f78f68de390>"
      ]
     },
     "metadata": {},
     "output_type": "display_data"
    }
   ],
   "source": [
    "x = df.montant.values\n",
    "print x.shape\n",
    "print np.mean(x)\n",
    "plt.subplot(2, 2, 1)\n",
    "plt.hist(x,bins=1000)\n",
    "plt.axis([0,100,0,20000])\n",
    "#plt.show()\n",
    "\n",
    "plt.subplot(2, 2, 2)\n",
    "plt.hist(x,bins=1000)\n",
    "plt.axis([100,200,0,1000])\n",
    "\n",
    "plt.subplot(2, 2, 3)\n",
    "plt.hist(x,bins=1000)\n",
    "plt.axis([200,300,0,200])\n",
    "\n",
    "plt.subplot(2, 2, 4)\n",
    "plt.hist(x,bins=1000)\n",
    "plt.axis([300,400,0,200])\n",
    "\n",
    "\n",
    "#plt.show()"
   ]
  },
  {
   "cell_type": "markdown",
   "metadata": {},
   "source": [
    "A partir de notre jeu de données, on constate:\n",
    "\n",
    "- Les transcations bancaires les plus fréquentes (5000 jusqu'à 15000 transactions) sont dans la plage de 10 à 50 euros. \n",
    "- La fréquece des dépenses pour un seuil supérieur à 50 euros sont de plus en plus faibles et atteignent une fréquence de 900 transcations pour 100 euros. \n",
    "- Pour un montant supérieur à 200 euros, la fréquence est inférieur à 100.\n",
    "- Pour un montant supérieur à 300 euros, la fréquence des dépenses est inférieur à 50."
   ]
  },
  {
   "cell_type": "markdown",
   "metadata": {},
   "source": [
    "#### I.1.2) Analyse par client"
   ]
  },
  {
   "cell_type": "code",
   "execution_count": 177,
   "metadata": {
    "collapsed": false
   },
   "outputs": [
    {
     "name": "stdout",
     "output_type": "stream",
     "text": [
      "(3983, 1)\n"
     ]
    },
    {
     "data": {
      "text/html": [
       "<div>\n",
       "<table border=\"1\" class=\"dataframe\">\n",
       "  <thead>\n",
       "    <tr style=\"text-align: right;\">\n",
       "      <th></th>\n",
       "      <th>montant</th>\n",
       "    </tr>\n",
       "    <tr>\n",
       "      <th>client</th>\n",
       "      <th></th>\n",
       "    </tr>\n",
       "  </thead>\n",
       "  <tbody>\n",
       "    <tr>\n",
       "      <th>1000001</th>\n",
       "      <td>12.000000</td>\n",
       "    </tr>\n",
       "    <tr>\n",
       "      <th>1000002</th>\n",
       "      <td>86.000000</td>\n",
       "    </tr>\n",
       "    <tr>\n",
       "      <th>1000003</th>\n",
       "      <td>29.750000</td>\n",
       "    </tr>\n",
       "    <tr>\n",
       "      <th>1000004</th>\n",
       "      <td>54.857143</td>\n",
       "    </tr>\n",
       "    <tr>\n",
       "      <th>1000005</th>\n",
       "      <td>174.333333</td>\n",
       "    </tr>\n",
       "  </tbody>\n",
       "</table>\n",
       "</div>"
      ],
      "text/plain": [
       "            montant\n",
       "client             \n",
       "1000001   12.000000\n",
       "1000002   86.000000\n",
       "1000003   29.750000\n",
       "1000004   54.857143\n",
       "1000005  174.333333"
      ]
     },
     "execution_count": 177,
     "metadata": {},
     "output_type": "execute_result"
    }
   ],
   "source": [
    "sum_montant = df.groupby('client')[['montant']].sum()\n",
    "count_montant = df.groupby('client')[['montant']].count()\n",
    "client_montant = sum_montant / count_montant     # dépense moyenne par client\n",
    "\n",
    "print client_montant.shape\n",
    "client_montant.head()\n",
    "\n"
   ]
  },
  {
   "cell_type": "code",
   "execution_count": 178,
   "metadata": {
    "collapsed": false
   },
   "outputs": [
    {
     "data": {
      "text/html": [
       "<div>\n",
       "<table border=\"1\" class=\"dataframe\">\n",
       "  <thead>\n",
       "    <tr style=\"text-align: right;\">\n",
       "      <th></th>\n",
       "      <th>montant</th>\n",
       "    </tr>\n",
       "  </thead>\n",
       "  <tbody>\n",
       "    <tr>\n",
       "      <th>count</th>\n",
       "      <td>3983.000000</td>\n",
       "    </tr>\n",
       "    <tr>\n",
       "      <th>mean</th>\n",
       "      <td>49.745707</td>\n",
       "    </tr>\n",
       "    <tr>\n",
       "      <th>std</th>\n",
       "      <td>63.242092</td>\n",
       "    </tr>\n",
       "    <tr>\n",
       "      <th>min</th>\n",
       "      <td>1.000000</td>\n",
       "    </tr>\n",
       "    <tr>\n",
       "      <th>25%</th>\n",
       "      <td>23.566964</td>\n",
       "    </tr>\n",
       "    <tr>\n",
       "      <th>50%</th>\n",
       "      <td>36.461538</td>\n",
       "    </tr>\n",
       "    <tr>\n",
       "      <th>75%</th>\n",
       "      <td>56.480769</td>\n",
       "    </tr>\n",
       "    <tr>\n",
       "      <th>max</th>\n",
       "      <td>1381.500000</td>\n",
       "    </tr>\n",
       "  </tbody>\n",
       "</table>\n",
       "</div>"
      ],
      "text/plain": [
       "           montant\n",
       "count  3983.000000\n",
       "mean     49.745707\n",
       "std      63.242092\n",
       "min       1.000000\n",
       "25%      23.566964\n",
       "50%      36.461538\n",
       "75%      56.480769\n",
       "max    1381.500000"
      ]
     },
     "execution_count": 178,
     "metadata": {},
     "output_type": "execute_result"
    }
   ],
   "source": [
    "client_montant.describe()"
   ]
  },
  {
   "cell_type": "code",
   "execution_count": 179,
   "metadata": {
    "collapsed": false
   },
   "outputs": [
    {
     "data": {
      "image/png": "[encoded data removed]",
      "text/plain": [
       "<matplotlib.figure.Figure at 0x7f78fb29d490>"
      ]
     },
     "metadata": {},
     "output_type": "display_data"
    }
   ],
   "source": [
    "x = client_montant.montant.values\n",
    "plt.hist(x,bins=500)\n",
    "plt.axis([0,200,0,250])\n",
    "plt.title('depense moyenne par client')\n",
    "plt.xlabel('montant moyen')\n",
    "plt.ylabel('nombre de client')\n",
    "plt.show()"
   ]
  },
  {
   "cell_type": "markdown",
   "metadata": {},
   "source": [
    "Dans ce jeu de données, on a 3983 clients. L'histogramme montre que 75% de la population dépense en moyenne (par transaction) un montant inférieur à 56 euros. "
   ]
  },
  {
   "cell_type": "markdown",
   "metadata": {},
   "source": [
    "####I.1.3) Evolution des dépenses en fonction du temps"
   ]
  },
  {
   "cell_type": "code",
   "execution_count": 180,
   "metadata": {
    "collapsed": false
   },
   "outputs": [
    {
     "name": "stdout",
     "output_type": "stream",
     "text": [
      "<class 'pandas.core.frame.DataFrame'>\n"
     ]
    },
    {
     "data": {
      "text/html": [
       "<div>\n",
       "<table border=\"1\" class=\"dataframe\">\n",
       "  <thead>\n",
       "    <tr style=\"text-align: right;\">\n",
       "      <th></th>\n",
       "      <th>client</th>\n",
       "      <th>paysclient</th>\n",
       "      <th>timestamp</th>\n",
       "      <th>canal</th>\n",
       "      <th>montant</th>\n",
       "      <th>commercant</th>\n",
       "    </tr>\n",
       "    <tr>\n",
       "      <th>timestamp</th>\n",
       "      <th></th>\n",
       "      <th></th>\n",
       "      <th></th>\n",
       "      <th></th>\n",
       "      <th></th>\n",
       "      <th></th>\n",
       "    </tr>\n",
       "  </thead>\n",
       "  <tbody>\n",
       "    <tr>\n",
       "      <th>2011-01-04 21:00:00</th>\n",
       "      <td>1001741</td>\n",
       "      <td>FRA</td>\n",
       "      <td>2011-01-04-21</td>\n",
       "      <td>1</td>\n",
       "      <td>25</td>\n",
       "      <td>2019460</td>\n",
       "    </tr>\n",
       "    <tr>\n",
       "      <th>2011-01-04 21:00:00</th>\n",
       "      <td>1000791</td>\n",
       "      <td>FRA</td>\n",
       "      <td>2011-01-04-21</td>\n",
       "      <td>1</td>\n",
       "      <td>15</td>\n",
       "      <td>2019461</td>\n",
       "    </tr>\n",
       "    <tr>\n",
       "      <th>2011-01-04 21:00:00</th>\n",
       "      <td>1000516</td>\n",
       "      <td>FRA</td>\n",
       "      <td>2011-01-04-21</td>\n",
       "      <td>1</td>\n",
       "      <td>24</td>\n",
       "      <td>2000798</td>\n",
       "    </tr>\n",
       "    <tr>\n",
       "      <th>2011-01-04 21:00:00</th>\n",
       "      <td>1000071</td>\n",
       "      <td>FRA</td>\n",
       "      <td>2011-01-04-21</td>\n",
       "      <td>1</td>\n",
       "      <td>12</td>\n",
       "      <td>2000798</td>\n",
       "    </tr>\n",
       "    <tr>\n",
       "      <th>2011-01-04 21:00:00</th>\n",
       "      <td>1000686</td>\n",
       "      <td>FRA</td>\n",
       "      <td>2011-01-04-21</td>\n",
       "      <td>1</td>\n",
       "      <td>144</td>\n",
       "      <td>2000798</td>\n",
       "    </tr>\n",
       "  </tbody>\n",
       "</table>\n",
       "</div>"
      ],
      "text/plain": [
       "                      client paysclient      timestamp  canal  montant  \\\n",
       "timestamp                                                                \n",
       "2011-01-04 21:00:00  1001741        FRA  2011-01-04-21      1       25   \n",
       "2011-01-04 21:00:00  1000791        FRA  2011-01-04-21      1       15   \n",
       "2011-01-04 21:00:00  1000516        FRA  2011-01-04-21      1       24   \n",
       "2011-01-04 21:00:00  1000071        FRA  2011-01-04-21      1       12   \n",
       "2011-01-04 21:00:00  1000686        FRA  2011-01-04-21      1      144   \n",
       "\n",
       "                     commercant  \n",
       "timestamp                        \n",
       "2011-01-04 21:00:00     2019460  \n",
       "2011-01-04 21:00:00     2019461  \n",
       "2011-01-04 21:00:00     2000798  \n",
       "2011-01-04 21:00:00     2000798  \n",
       "2011-01-04 21:00:00     2000798  "
      ]
     },
     "execution_count": 180,
     "metadata": {},
     "output_type": "execute_result"
    }
   ],
   "source": [
    "time_series = df\n",
    "print type(time_series)\n",
    "time_series.index = pd.to_datetime(time_series.timestamp)\n",
    "time_series.head()"
   ]
  },
  {
   "cell_type": "code",
   "execution_count": 190,
   "metadata": {
    "collapsed": false
   },
   "outputs": [
    {
     "data": {
      "text/plain": [
       "[<matplotlib.lines.Line2D at 0x7f78fb7d9390>]"
      ]
     },
     "execution_count": 190,
     "metadata": {},
     "output_type": "execute_result"
    },
    {
     "data": {
      "image/png": "[encoded data removed]",
      "text/plain": [
       "<matplotlib.figure.Figure at 0x7f78fb147090>"
      ]
     },
     "metadata": {},
     "output_type": "display_data"
    }
   ],
   "source": [
    "time_series_aggregated = time_series.resample('W-Mon', how=sum)\n",
    "plt.plot_date(time_series_aggregated.index,time_series_aggregated.montant,fmt=\"r-\",label='depenses')"
   ]
  },
  {
   "cell_type": "markdown",
   "metadata": {},
   "source": [
    "On remarque un pic de dépenses en début d'année puis elles se stabilisent en cours d'année."
   ]
  },
  {
   "cell_type": "markdown",
   "metadata": {},
   "source": [
    "####I.1.4) Répartition des dépenses en fonction du canal d'achat"
   ]
  },
  {
   "cell_type": "code",
   "execution_count": 196,
   "metadata": {
    "collapsed": false
   },
   "outputs": [
    {
     "data": {
      "text/plain": [
       "([<matplotlib.patches.Wedge at 0x7f78f6eaa190>,\n",
       "  <matplotlib.patches.Wedge at 0x7f78fbf4ea50>],\n",
       " [<matplotlib.text.Text at 0x7f78fc8c1910>,\n",
       "  <matplotlib.text.Text at 0x7f78f9b7a350>],\n",
       " [<matplotlib.text.Text at 0x7f78fbf4e8d0>,\n",
       "  <matplotlib.text.Text at 0x7f78f9b7a990>])"
      ]
     },
     "execution_count": 196,
     "metadata": {},
     "output_type": "execute_result"
    },
    {
     "data": {
      "image/png": "[encoded data removed]",
      "text/plain": [
       "<matplotlib.figure.Figure at 0x7f78f9b0d3d0>"
      ]
     },
     "metadata": {},
     "output_type": "display_data"
    }
   ],
   "source": [
    "canal_1 = df[df['canal']==1]\n",
    "canal_2 = df[df['canal']==2]\n",
    "name = ['canal 1','canal 2']\n",
    "data_plot = [len(canal_1),len(canal_2)]\n",
    "explode=(0.15,0.5)\n",
    "plt.pie(data_plot, explode=explode, labels=name, autopct='%1.1f%%', startangle=0, shadow=True)"
   ]
  },
  {
   "cell_type": "markdown",
   "metadata": {},
   "source": [
    "99,1 % des achats se font via canal 1 alors que 0.9% se font à travers le canal 2."
   ]
  },
  {
   "cell_type": "markdown",
   "metadata": {},
   "source": [
    "####I.1.5) Répartition des dépenses en fonction du commerçant"
   ]
  },
  {
   "cell_type": "code",
   "execution_count": 221,
   "metadata": {
    "collapsed": false
   },
   "outputs": [
    {
     "data": {
      "image/png": "[encoded data removed]",
      "text/plain": [
       "<matplotlib.figure.Figure at 0x7f78a98aec10>"
      ]
     },
     "metadata": {},
     "output_type": "display_data"
    }
   ],
   "source": [
    "aggregated_commercant = df.groupby('commercant')[['montant']].sum()\n",
    "\n",
    "#plt.bar(aggregated_commercant.index.values,aggregated_commercant.montant.values)\n",
    "plt.hist(aggregated_commercant.montant.values,bins=200)\n",
    "plt.axis([0,600,0,35000])\n",
    "plt.xlabel('store')\n",
    "plt.ylabel('montant')\n",
    "plt.title('montant depense par commercant')\n",
    "plt.show()"
   ]
  },
  {
   "cell_type": "markdown",
   "metadata": {},
   "source": [
    "##II) Apprentissage non supervisé"
   ]
  },
  {
   "cell_type": "markdown",
   "metadata": {},
   "source": [
    "###II.2) Aggregation par client"
   ]
  },
  {
   "cell_type": "code",
   "execution_count": 231,
   "metadata": {
    "collapsed": false
   },
   "outputs": [
    {
     "data": {
      "text/html": [
       "<div>\n",
       "<table border=\"1\" class=\"dataframe\">\n",
       "  <thead>\n",
       "    <tr>\n",
       "      <th></th>\n",
       "      <th>canal</th>\n",
       "      <th>commercant</th>\n",
       "      <th>montant</th>\n",
       "    </tr>\n",
       "    <tr>\n",
       "      <th></th>\n",
       "      <th>&lt;lambda&gt;</th>\n",
       "      <th>&lt;lambda&gt;</th>\n",
       "      <th>sum</th>\n",
       "    </tr>\n",
       "    <tr>\n",
       "      <th>client</th>\n",
       "      <th></th>\n",
       "      <th></th>\n",
       "      <th></th>\n",
       "    </tr>\n",
       "  </thead>\n",
       "  <tbody>\n",
       "    <tr>\n",
       "      <th>1000001</th>\n",
       "      <td>1</td>\n",
       "      <td>2000087</td>\n",
       "      <td>24</td>\n",
       "    </tr>\n",
       "    <tr>\n",
       "      <th>1000002</th>\n",
       "      <td>1</td>\n",
       "      <td>2000084</td>\n",
       "      <td>86</td>\n",
       "    </tr>\n",
       "    <tr>\n",
       "      <th>1000003</th>\n",
       "      <td>1</td>\n",
       "      <td>2000176</td>\n",
       "      <td>119</td>\n",
       "    </tr>\n",
       "    <tr>\n",
       "      <th>1000004</th>\n",
       "      <td>1</td>\n",
       "      <td>2000159</td>\n",
       "      <td>384</td>\n",
       "    </tr>\n",
       "    <tr>\n",
       "      <th>1000005</th>\n",
       "      <td>1</td>\n",
       "      <td>2000141</td>\n",
       "      <td>523</td>\n",
       "    </tr>\n",
       "  </tbody>\n",
       "</table>\n",
       "</div>"
      ],
      "text/plain": [
       "           canal commercant montant\n",
       "        <lambda>   <lambda>     sum\n",
       "client                             \n",
       "1000001        1    2000087      24\n",
       "1000002        1    2000084      86\n",
       "1000003        1    2000176     119\n",
       "1000004        1    2000159     384\n",
       "1000005        1    2000141     523"
      ]
     },
     "execution_count": 231,
     "metadata": {},
     "output_type": "execute_result"
    }
   ],
   "source": [
    "f = {'montant':['sum'], 'commercant':[lambda x:x.value_counts().index[0]],'canal':[lambda x:x.value_counts().index[0]]}\n",
    "client_vector = df.groupby('client').agg(f)\n",
    "client_vector.head()"
   ]
  },
  {
   "cell_type": "code",
   "execution_count": 233,
   "metadata": {
    "collapsed": false
   },
   "outputs": [
    {
     "name": "stdout",
     "output_type": "stream",
     "text": [
      "(3983, 3)\n"
     ]
    }
   ],
   "source": [
    "# scale the dataframe\n",
    "X = client_vector.as_matrix()\n",
    "print X.shape\n",
    "np.res"
   ]
  },
  {
   "cell_type": "code",
   "execution_count": 262,
   "metadata": {
    "collapsed": false
   },
   "outputs": [],
   "source": [
    "X = preprocessing.scale(X)\n",
    "X_train = X[:X.shape[0]//2,:]\n",
    "X_test = X[X.shape[0]//2:,:]"
   ]
  },
  {
   "cell_type": "code",
   "execution_count": 263,
   "metadata": {
    "collapsed": false
   },
   "outputs": [],
   "source": [
    "estimator = KMeans(n_clusters=8, init='k-means++')\n",
    "estimator.fit(X_train)\n",
    "res = estimator.predict(X_test)"
   ]
  },
  {
   "cell_type": "code",
   "execution_count": null,
   "metadata": {
    "collapsed": true
   },
   "outputs": [],
   "source": []
  }
 ],
 "metadata": {
  "kernelspec": {
   "display_name": "Python 2",
   "language": "python",
   "name": "python2"
  },
  "language_info": {
   "codemirror_mode": {
    "name": "ipython",
    "version": 2
   },
   "file_extension": ".py",
   "mimetype": "text/x-python",
   "name": "python",
   "nbconvert_exporter": "python",
   "pygments_lexer": "ipython2",
   "version": "2.7.10"
  }
 },
 "nbformat": 4,
 "nbformat_minor": 0
}
